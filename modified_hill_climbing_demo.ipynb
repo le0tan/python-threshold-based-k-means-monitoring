{
 "cells": [
  {
   "cell_type": "code",
   "execution_count": 1,
   "metadata": {},
   "outputs": [
    {
     "data": {
      "image/png": "[encoded data removed]",
      "text/plain": [
       "<Figure size 432x288 with 1 Axes>"
      ]
     },
     "metadata": {
      "needs_background": "light"
     },
     "output_type": "display_data"
    }
   ],
   "source": [
    "%matplotlib inline\n",
    "import matplotlib.pyplot as plt\n",
    "import numpy as np\n",
    "import uuid\n",
    "from sortedcontainers import SortedList\n",
    "\n",
    "points = np.random.randn(100, 2)\n",
    "plt.scatter(points[:, 0], points[:, 1])\n",
    "data = [(str(uuid.uuid4()), p) for p in points]"
   ]
  },
  {
   "cell_type": "code",
   "execution_count": 2,
   "metadata": {},
   "outputs": [
    {
     "data": {
      "text/plain": [
       "<matplotlib.collections.PathCollection at 0x115593e48>"
      ]
     },
     "execution_count": 2,
     "metadata": {},
     "output_type": "execute_result"
    },
    {
     "data": {
      "image/png": "[encoded data removed]",
      "text/plain": [
       "<Figure size 432x288 with 1 Axes>"
      ]
     },
     "metadata": {
      "needs_background": "light"
     },
     "output_type": "display_data"
    }
   ],
   "source": [
    "class KMeans:\n",
    "    \n",
    "    def __init__(self, k=3, tol=1e-4, max_iter=300):\n",
    "        self.k = k\n",
    "        self.tol = tol\n",
    "        self.max_iter = max_iter\n",
    "        \n",
    "    def fit(self, data):\n",
    "        self.centroids = {}\n",
    "        \n",
    "        np.random.shuffle(data)\n",
    "        for i in range(self.k):\n",
    "            self.centroids[i] = data[i]\n",
    "        \n",
    "        for i in range(self.max_iter):\n",
    "            self.classifications = {}\n",
    "            for j in range(self.k):\n",
    "                self.classifications[j] = []\n",
    "                \n",
    "            for d in data:\n",
    "                distances = [np.linalg.norm(d-self.centroids[c]) for c in self.centroids]\n",
    "                classification = np.argmin(distances)\n",
    "                self.classifications[classification].append(d)\n",
    "            \n",
    "            prev_centroids = dict(self.centroids)\n",
    "            for classification in self.classifications:\n",
    "                self.centroids[classification] = np.average(self.classifications[classification], axis=0)\n",
    "            ok = True\n",
    "            for c in self.centroids:\n",
    "                prev = prev_centroids[c]\n",
    "                cur = self.centroids[c]\n",
    "                if np.sum((prev-cur) / prev * 100.0) > self.tol:\n",
    "                    ok = False\n",
    "                    break\n",
    "            if ok:\n",
    "                break\n",
    "                \n",
    "a = KMeans(k=3)\n",
    "a.fit(points)\n",
    "\n",
    "centroids = np.array([val for val in a.centroids.values()])\n",
    "\n",
    "plt.scatter(points[:, 0], points[:, 1])\n",
    "plt.scatter(centroids[:, 0], centroids[:, 1])"
   ]
  },
  {
   "cell_type": "code",
   "execution_count": 3,
   "metadata": {},
   "outputs": [],
   "source": [
    "# data should look like this\n",
    "# {uid of the point: corrdinate in d-dimension}\n",
    "\n",
    "class TKM:\n",
    "    \n",
    "    def __init__(self, k=3, tol=1e-4, max_iter=300):\n",
    "        self.k = k\n",
    "        self.tol = tol\n",
    "        self.max_iter = max_iter\n",
    "    \n",
    "    def compute_threshold(self, data, point):\n",
    "        pass\n",
    "    \n",
    "    def fit(self, data):\n",
    "        self.d = {}\n",
    "        self.d_prime = {}\n",
    "        self.centers = {}\n",
    "        self.classifications = {}\n",
    "        self.m = {}\n",
    "        self.SUM = {}\n",
    "        self.sigma = 0\n",
    "        \n",
    "        # Initialize centroids (or centers)\n",
    "#         np.random.shuffle(data)\n",
    "        for i in range(self.k):\n",
    "            self.centers[i] = data[i][1]\n",
    "            self.m[data[i][0]] = i\n",
    "            self.classifications[i] = []\n",
    "            \n",
    "        for p in data:\n",
    "            distances = [np.linalg.norm(p[1]-self.centers[c]) for c in self.centers]\n",
    "            classification = np.argmin(distances)\n",
    "            self.classifications[classification].append(p)\n",
    "            self.m[p[0]] = classification\n",
    "            \n",
    "        # Initialize d and d_prime\n",
    "        for p in data:\n",
    "            self.d[p[0]] = np.linalg.norm(p[1]-self.centers[self.m[p[0]]])\n",
    "            cur_min = None\n",
    "            for c in self.centers:\n",
    "                if c==self.m[p[0]]:\n",
    "                    continue\n",
    "                if cur_min==None:\n",
    "                    cur_min = np.linalg.norm(p[1]-self.centers[c])\n",
    "                else:\n",
    "                    cur_min = min(cur_min, np.linalg.norm(p[1]-self.centers[c]))\n",
    "            self.d_prime[p[0]] = cur_min\n",
    "            \n",
    "        # Initialize P_active\n",
    "        ## H is a binary search tree of tuple (d-d', uid)\n",
    "        self.H = SortedList([(self.d_prime[p[0]]-self.d[p[0]], p[1], p[0]) for p in data], key=lambda x:x[0])\n",
    "        self.P_active = list(self.H.islice(0, self.H.bisect_left((0, None, None))))\n",
    "        \n",
    "        # Initialize SUM\n",
    "        for c in self.centers:\n",
    "            self.SUM[c] = np.vstack([k[1] for k in self.classifications[c]]).sum(axis=0)   \n",
    "            \n",
    "        # Main loop\n",
    "        ok = False\n",
    "        for i in range(self.max_iter):\n",
    "            ok = True\n",
    "            for p in self.P_active:\n",
    "                distances = [np.linalg.norm(p[1]-self.centers[c]) for c in self.centers]\n",
    "                nearest = np.argmin(distances)\n",
    "                if nearest != self.m[p[2]]:\n",
    "                    self.SUM[self.m[p[2]]] = np.subtract(self.SUM[self.m[p[2]]], p[1])\n",
    "                    self.SUM[nearest] = np.add(self.SUM[nearest], p[1])\n",
    "                    self.m[p[2]] = nearest\n",
    "            for c in self.centers:\n",
    "                m_g = self.SUM[c]/len(self.classifications[c])\n",
    "                self.sigma = max(self.sigma, np.linalg.norm(self.centers[c]-m_g))\n",
    "                if np.sum((self.centers[c]-m_g)/self.centers[c] * 100.0) > self.tol:\n",
    "                    ok = False\n",
    "                self.centers[c] = m_g\n",
    "            if ok:\n",
    "                break\n",
    "            self.P_active = list(self.H.islice(0, self.H.bisect_left((self.sigma, None, None))))"
   ]
  },
  {
   "cell_type": "code",
   "execution_count": 4,
   "metadata": {},
   "outputs": [
    {
     "name": "stdout",
     "output_type": "stream",
     "text": [
      "[]\n",
      "ok\n"
     ]
    }
   ],
   "source": [
    "model = TKM(k=3)\n",
    "model.fit(data)"
   ]
  },
  {
   "cell_type": "code",
   "execution_count": 5,
   "metadata": {},
   "outputs": [
    {
     "data": {
      "text/plain": [
       "<matplotlib.collections.PathCollection at 0x1156d8898>"
      ]
     },
     "execution_count": 5,
     "metadata": {},
     "output_type": "execute_result"
    },
    {
     "data": {
      "image/png": "[encoded data removed]",
      "text/plain": [
       "<Figure size 432x288 with 1 Axes>"
      ]
     },
     "metadata": {
      "needs_background": "light"
     },
     "output_type": "display_data"
    }
   ],
   "source": [
    "model.centers\n",
    "centers = np.array([val for val in model.centers.values()])\n",
    "plt.scatter(points[:, 0], points[:, 1])\n",
    "plt.scatter(centers[:, 0], centers[:, 1])"
   ]
  },
  {
   "cell_type": "code",
   "execution_count": null,
   "metadata": {},
   "outputs": [],
   "source": []
  }
 ],
 "metadata": {
  "kernelspec": {
   "display_name": "Python 3",
   "language": "python",
   "name": "python3"
  },
  "language_info": {
   "codemirror_mode": {
    "name": "ipython",
    "version": 3
   },
   "file_extension": ".py",
   "mimetype": "text/x-python",
   "name": "python",
   "nbconvert_exporter": "python",
   "pygments_lexer": "ipython3",
   "version": "3.7.3"
  }
 },
 "nbformat": 4,
 "nbformat_minor": 2
}
